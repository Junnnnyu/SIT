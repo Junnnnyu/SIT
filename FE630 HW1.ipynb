{
 "cells": [
  {
   "cell_type": "code",
   "execution_count": 1,
   "metadata": {},
   "outputs": [],
   "source": [
    "import numpy as np\n",
    "import matplotlib.pyplot as plt\n",
    "import pandas as pd\n",
    "from numpy.linalg import inv\n",
    "from cvxopt import matrix, solvers\n",
    "from numpy import c_\n",
    "import pandas_datareader as pdr"
   ]
  },
  {
   "cell_type": "markdown",
   "metadata": {},
   "source": [
    "# 2.4 Numerical Application for Exponential Utility"
   ]
  },
  {
   "cell_type": "code",
   "execution_count": 2,
   "metadata": {},
   "outputs": [],
   "source": [
    "#Download data\n",
    "company = ['AAPL', 'GOOGL', 'FB', 'AMZN']\n",
    "df = pd.DataFrame()\n",
    "\n",
    "for i in company:\n",
    "    df[i] = pdr.DataReader(i, data_source='yahoo', start='2020/09/01', end=\"2021/09/01\")['Close']"
   ]
  },
  {
   "cell_type": "code",
   "execution_count": 3,
   "metadata": {
    "scrolled": false
   },
   "outputs": [
    {
     "data": {
      "text/html": [
       "<div>\n",
       "<style scoped>\n",
       "    .dataframe tbody tr th:only-of-type {\n",
       "        vertical-align: middle;\n",
       "    }\n",
       "\n",
       "    .dataframe tbody tr th {\n",
       "        vertical-align: top;\n",
       "    }\n",
       "\n",
       "    .dataframe thead th {\n",
       "        text-align: right;\n",
       "    }\n",
       "</style>\n",
       "<table border=\"1\" class=\"dataframe\">\n",
       "  <thead>\n",
       "    <tr style=\"text-align: right;\">\n",
       "      <th></th>\n",
       "      <th>AAPL</th>\n",
       "      <th>GOOGL</th>\n",
       "      <th>FB</th>\n",
       "      <th>AMZN</th>\n",
       "    </tr>\n",
       "    <tr>\n",
       "      <th>Date</th>\n",
       "      <th></th>\n",
       "      <th></th>\n",
       "      <th></th>\n",
       "      <th></th>\n",
       "    </tr>\n",
       "  </thead>\n",
       "  <tbody>\n",
       "    <tr>\n",
       "      <th>2020-09-01</th>\n",
       "      <td>134.179993</td>\n",
       "      <td>1655.079956</td>\n",
       "      <td>295.440002</td>\n",
       "      <td>3499.120117</td>\n",
       "    </tr>\n",
       "    <tr>\n",
       "      <th>2020-09-02</th>\n",
       "      <td>131.399994</td>\n",
       "      <td>1717.390015</td>\n",
       "      <td>302.500000</td>\n",
       "      <td>3531.449951</td>\n",
       "    </tr>\n",
       "    <tr>\n",
       "      <th>2020-09-03</th>\n",
       "      <td>120.879997</td>\n",
       "      <td>1629.510010</td>\n",
       "      <td>291.119995</td>\n",
       "      <td>3368.000000</td>\n",
       "    </tr>\n",
       "    <tr>\n",
       "      <th>2020-09-04</th>\n",
       "      <td>120.959999</td>\n",
       "      <td>1581.209961</td>\n",
       "      <td>282.730011</td>\n",
       "      <td>3294.620117</td>\n",
       "    </tr>\n",
       "    <tr>\n",
       "      <th>2020-09-08</th>\n",
       "      <td>112.820000</td>\n",
       "      <td>1523.599976</td>\n",
       "      <td>271.160004</td>\n",
       "      <td>3149.840088</td>\n",
       "    </tr>\n",
       "  </tbody>\n",
       "</table>\n",
       "</div>"
      ],
      "text/plain": [
       "                  AAPL        GOOGL          FB         AMZN\n",
       "Date                                                        \n",
       "2020-09-01  134.179993  1655.079956  295.440002  3499.120117\n",
       "2020-09-02  131.399994  1717.390015  302.500000  3531.449951\n",
       "2020-09-03  120.879997  1629.510010  291.119995  3368.000000\n",
       "2020-09-04  120.959999  1581.209961  282.730011  3294.620117\n",
       "2020-09-08  112.820000  1523.599976  271.160004  3149.840088"
      ]
     },
     "execution_count": 3,
     "metadata": {},
     "output_type": "execute_result"
    }
   ],
   "source": [
    "df.head()"
   ]
  },
  {
   "cell_type": "code",
   "execution_count": 4,
   "metadata": {
    "scrolled": true
   },
   "outputs": [
    {
     "name": "stdout",
     "output_type": "stream",
     "text": [
      "<class 'pandas.core.frame.DataFrame'>\n",
      "DatetimeIndex: 253 entries, 2020-09-01 to 2021-09-01\n",
      "Data columns (total 4 columns):\n",
      " #   Column  Non-Null Count  Dtype  \n",
      "---  ------  --------------  -----  \n",
      " 0   AAPL    253 non-null    float64\n",
      " 1   GOOGL   253 non-null    float64\n",
      " 2   FB      253 non-null    float64\n",
      " 3   AMZN    253 non-null    float64\n",
      "dtypes: float64(4)\n",
      "memory usage: 9.9 KB\n"
     ]
    }
   ],
   "source": [
    "df.info()"
   ]
  },
  {
   "cell_type": "markdown",
   "metadata": {},
   "source": [
    "# Compute Expect Return and Variance"
   ]
  },
  {
   "cell_type": "code",
   "execution_count": 5,
   "metadata": {
    "scrolled": false
   },
   "outputs": [
    {
     "data": {
      "text/html": [
       "<div>\n",
       "<style scoped>\n",
       "    .dataframe tbody tr th:only-of-type {\n",
       "        vertical-align: middle;\n",
       "    }\n",
       "\n",
       "    .dataframe tbody tr th {\n",
       "        vertical-align: top;\n",
       "    }\n",
       "\n",
       "    .dataframe thead th {\n",
       "        text-align: right;\n",
       "    }\n",
       "</style>\n",
       "<table border=\"1\" class=\"dataframe\">\n",
       "  <thead>\n",
       "    <tr style=\"text-align: right;\">\n",
       "      <th></th>\n",
       "      <th>AAPL</th>\n",
       "      <th>GOOGL</th>\n",
       "      <th>FB</th>\n",
       "      <th>AMZN</th>\n",
       "    </tr>\n",
       "    <tr>\n",
       "      <th>Date</th>\n",
       "      <th></th>\n",
       "      <th></th>\n",
       "      <th></th>\n",
       "      <th></th>\n",
       "    </tr>\n",
       "  </thead>\n",
       "  <tbody>\n",
       "    <tr>\n",
       "      <th>2020-09-01</th>\n",
       "      <td>0.000000</td>\n",
       "      <td>0.000000</td>\n",
       "      <td>0.000000</td>\n",
       "      <td>0.000000</td>\n",
       "    </tr>\n",
       "    <tr>\n",
       "      <th>2020-09-02</th>\n",
       "      <td>-0.020936</td>\n",
       "      <td>0.036956</td>\n",
       "      <td>0.023615</td>\n",
       "      <td>0.009197</td>\n",
       "    </tr>\n",
       "    <tr>\n",
       "      <th>2020-09-03</th>\n",
       "      <td>-0.083448</td>\n",
       "      <td>-0.052526</td>\n",
       "      <td>-0.038346</td>\n",
       "      <td>-0.047389</td>\n",
       "    </tr>\n",
       "    <tr>\n",
       "      <th>2020-09-04</th>\n",
       "      <td>0.000662</td>\n",
       "      <td>-0.030089</td>\n",
       "      <td>-0.029243</td>\n",
       "      <td>-0.022028</td>\n",
       "    </tr>\n",
       "    <tr>\n",
       "      <th>2020-09-08</th>\n",
       "      <td>-0.069666</td>\n",
       "      <td>-0.037114</td>\n",
       "      <td>-0.041783</td>\n",
       "      <td>-0.044939</td>\n",
       "    </tr>\n",
       "  </tbody>\n",
       "</table>\n",
       "</div>"
      ],
      "text/plain": [
       "                AAPL     GOOGL        FB      AMZN\n",
       "Date                                              \n",
       "2020-09-01  0.000000  0.000000  0.000000  0.000000\n",
       "2020-09-02 -0.020936  0.036956  0.023615  0.009197\n",
       "2020-09-03 -0.083448 -0.052526 -0.038346 -0.047389\n",
       "2020-09-04  0.000662 -0.030089 -0.029243 -0.022028\n",
       "2020-09-08 -0.069666 -0.037114 -0.041783 -0.044939"
      ]
     },
     "execution_count": 5,
     "metadata": {},
     "output_type": "execute_result"
    }
   ],
   "source": [
    "returns = np.log(df / df.shift(1)) #compute log return\n",
    "returns.fillna(value=0, inplace=True)\n",
    "returns.head()"
   ]
  },
  {
   "cell_type": "code",
   "execution_count": 6,
   "metadata": {},
   "outputs": [],
   "source": [
    "means = returns.mean() * 252\n",
    "covariance = returns.cov() *252"
   ]
  },
  {
   "cell_type": "code",
   "execution_count": 7,
   "metadata": {
    "scrolled": true
   },
   "outputs": [
    {
     "name": "stdout",
     "output_type": "stream",
     "text": [
      "AAPL     0.127542\n",
      "GOOGL    0.560124\n",
      "FB       0.256070\n",
      "AMZN    -0.005744\n",
      "dtype: float64\n",
      "           AAPL     GOOGL        FB      AMZN\n",
      "AAPL   0.097447  0.047372  0.061481  0.062521\n",
      "GOOGL  0.047372  0.070965  0.058383  0.046372\n",
      "FB     0.061481  0.058383  0.102010  0.061422\n",
      "AMZN   0.062521  0.046372  0.061422  0.083245\n"
     ]
    }
   ],
   "source": [
    "print(means)\n",
    "print(covariance)"
   ]
  },
  {
   "cell_type": "code",
   "execution_count": 8,
   "metadata": {},
   "outputs": [],
   "source": [
    "# transfor to matrix\n",
    "mean_list = np.array(means)\n",
    "mean_matrix = matrix(means)\n",
    "cov_list = np.array(covariance)\n",
    "cov_matrix = matrix(cov_list)"
   ]
  },
  {
   "cell_type": "code",
   "execution_count": 9,
   "metadata": {},
   "outputs": [],
   "source": [
    "la = np.linspace(0,0.5,501)\n",
    "q = matrix(np.zeros((4,1)))\n",
    "sol = []\n",
    "A = matrix(np.c_[np.ones(4), mean_matrix]).T\n",
    "risk = np.linspace(0,0,501)\n",
    "exp_return = np.linspace(0,0,501)"
   ]
  },
  {
   "cell_type": "code",
   "execution_count": 10,
   "metadata": {
    "scrolled": false
   },
   "outputs": [],
   "source": [
    "for i in range(len(la)):\n",
    "    b = matrix(np.c_[np.ones(1),la[i]]).T\n",
    "    sol.append(solvers.qp(cov_matrix,q,A=A,b=b)['x'])\n",
    "    risk[i] = np.sqrt(sol[i].T*cov_matrix*sol[i])\n",
    "    exp_return[i]=np.matmul(sol[i].T,mean_matrix)"
   ]
  },
  {
   "cell_type": "code",
   "execution_count": 11,
   "metadata": {},
   "outputs": [],
   "source": [
    "#print(exp_return)"
   ]
  },
  {
   "cell_type": "code",
   "execution_count": 12,
   "metadata": {
    "scrolled": true
   },
   "outputs": [],
   "source": [
    "#print(risk)"
   ]
  },
  {
   "cell_type": "code",
   "execution_count": 13,
   "metadata": {
    "scrolled": true
   },
   "outputs": [
    {
     "data": {
      "image/png": "[encoded data removed]",
      "text/plain": [
       "<Figure size 432x288 with 1 Axes>"
      ]
     },
     "metadata": {
      "needs_background": "light"
     },
     "output_type": "display_data"
    }
   ],
   "source": [
    "plt.xlabel(\"Portfolio Risk\")\n",
    "plt.ylabel(\"Portfolio Expected Returns\")\n",
    "plt.title(\"Efficient Frontier\")\n",
    "plt.plot(risk,exp_return,color='red',label=\"Eff Frontier\")\n",
    "plt.plot(np.sqrt(cov_matrix[0,0]), mean_matrix[0], 'ro', color='blue',label='Microsoft')\n",
    "plt.plot(np.sqrt(cov_matrix[1,1]), mean_matrix[1], 'ro', color='green',label='Nordstrom')\n",
    "plt.plot(np.sqrt(cov_matrix[2,2]), mean_matrix[2], 'ro', color='orange',label='Starbucks')\n",
    "plt.plot(np.sqrt(cov_matrix[3,3]), mean_matrix[3], 'ro', color='purple',label='Starbucks')\n",
    "plt.legend()\n",
    "plt.show()"
   ]
  },
  {
   "cell_type": "code",
   "execution_count": null,
   "metadata": {},
   "outputs": [],
   "source": []
  },
  {
   "cell_type": "code",
   "execution_count": null,
   "metadata": {},
   "outputs": [],
   "source": [
    "class plotfunction:\n",
    "    def __init__(self):\n",
    "        self.mu1_ = 5\n",
    "        self.sigma1_ = 3\n",
    "        self.mu2_ = 10\n",
    "        self.sigma2_ = 7\n",
    "    \n",
    "    def function(self, a, b, p):\n",
    "        mu = np.linspace(a, b, 500)\n",
    "        w = (mu - self.mu2_) / (self.mu1_ - self.mu2_)\n",
    "        sigma =np.sqrt(w ** 2 * self.sigma1_ ** 2 + (1 - w) ** 2 * self.sigma2_ ** 2 \n",
    "                       + 2 * w * (1 - w) * self.sigma1_ * self.sigma2_ * p)\n",
    "        plt.plot(sigma, mu)\n",
    "        plt.xlabel(\"sigma\")\n",
    "        plt.ylabel(\"mu\")\n",
    "        plt.title('p = ' + str(p))\n",
    "        #plt.annotate('(%.2f, %.2f)' % (min(sigma), mu[np.argmin(sigma)]),(min(sigma), mu[np.argmin(sigma)]))\n",
    "        #plt.hlines(mu[np.argmin(sigma)], min(sigma), max(sigma), linestyles = ':')\n",
    "        #plt.vlines(min(sigma), min(mu), max(mu), linestyles = ':')\n",
    "        #plt.title(' =' + str())\n",
    "    \n",
    "k = plotfunction()\n",
    "for p in [1,0,-1]:\n",
    "    k.function(0.0, 0.5, p)\n",
    "    plt.show()"
   ]
  }
 ],
 "metadata": {
  "kernelspec": {
   "display_name": "Python 3",
   "language": "python",
   "name": "python3"
  },
  "language_info": {
   "codemirror_mode": {
    "name": "ipython",
    "version": 3
   },
   "file_extension": ".py",
   "mimetype": "text/x-python",
   "name": "python",
   "nbconvert_exporter": "python",
   "pygments_lexer": "ipython3",
   "version": "3.8.3"
  }
 },
 "nbformat": 4,
 "nbformat_minor": 4
}
